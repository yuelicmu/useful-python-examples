{
 "cells": [
  {
   "cell_type": "markdown",
   "metadata": {},
   "source": [
    "## AWS setup\n",
    "After launching an instance in AWS EC2 machine, put the key file in your current directory, and run"
   ]
  },
  {
   "cell_type": "raw",
   "metadata": {},
   "source": [
    "ssh -v -i your_key.pem ubuntu@ec2-XX-X-XXX-XXX.compute-1.amazonaws.com"
   ]
  },
  {
   "cell_type": "markdown",
   "metadata": {},
   "source": [
    "## Upload and download files"
   ]
  },
  {
   "cell_type": "code",
   "execution_count": null,
   "metadata": {},
   "outputs": [],
   "source": [
    "# upload file to cloud\n",
    "scp -i your_key.pem readme.txt ubuntu@ec2-X-XX-XX-XX.compute-1.amazonaws.com:~/readme.txt\n",
    "# download file\n",
    "scp -i your_key.pem ubuntu@ec2-X-XX-XX-XX.compute-1.amazonaws.com:~/readme.txt readme.txt\n",
    "# zip files\n",
    "# maybe need to first run\n",
    "sudo apt install zip\n",
    "# and then\n",
    "zip -r archivename.zip directory_name"
   ]
  },
  {
   "cell_type": "markdown",
   "metadata": {},
   "source": [
    "## Tensorboard for TF 2.x\n",
    "Under local training, TensorBoard is really easy to use!"
   ]
  },
  {
   "cell_type": "code",
   "execution_count": null,
   "metadata": {},
   "outputs": [],
   "source": [
    "# import tensorboard package\n",
    "from keras.callbacks import TensorBoard\n",
    "import tensorflow as tf\n",
    "\n",
    "# specify writer and log path\n",
    "log_path = './logs'\n",
    "writer = tf.summary.create_file_writer(log_path)\n",
    "\n",
    "# add in each training epoch the (tag, value, step) tuple you want to trace:\n",
    "with writer.as_default():\n",
    "    tf.summary.scalar(\"train_reward\", np.sum(rewards), step=ep)\n",
    "    tf.summary.scalar(\"total_step\", len(actions), step=ep)\n",
    "    writer.flush()"
   ]
  },
  {
   "cell_type": "markdown",
   "metadata": {},
   "source": [
    "The above codes will create a logs/ folder in the current directory. Now we can open our tensorboard in browser."
   ]
  },
  {
   "cell_type": "code",
   "execution_count": null,
   "metadata": {},
   "outputs": [],
   "source": [
    "# run in terminal\n",
    "tensorboard --logdir ./logs\n",
    "# you should see\n",
    "Serving TensorBoard on localhost; to expose to the network, use a proxy or pass --bind_all\n",
    "TensorBoard 2.3.0 at http://localhost:6006/ (Press CTRL+C to quit)"
   ]
  },
  {
   "cell_type": "markdown",
   "metadata": {},
   "source": [
    "Then open http://localhost:6006/ to monitor the training process."
   ]
  },
  {
   "cell_type": "markdown",
   "metadata": {},
   "source": [
    "## Use Tensorboard in AWS\n",
    "There is one easy way to monitor the training process in AWS. First in AWS, open TensorBoard as above. But you can not open http://localhost:6006/ now. There are many ways to do this, what I find useful is, in your local command line, run"
   ]
  },
  {
   "cell_type": "code",
   "execution_count": null,
   "metadata": {},
   "outputs": [],
   "source": [
    "ssh -i your_key.pem -NL 6006:localhost:6006 ubuntu@ec2-X-XX-XX-XX.compute-1.amazonaws.com"
   ]
  },
  {
   "cell_type": "markdown",
   "metadata": {},
   "source": [
    "Then you can open the http://localhost:6006/ to monitor the training process, as in the local case."
   ]
  }
 ],
 "metadata": {
  "kernelspec": {
   "display_name": "Python 3",
   "language": "python",
   "name": "python3"
  },
  "language_info": {
   "codemirror_mode": {
    "name": "ipython",
    "version": 3
   },
   "file_extension": ".py",
   "mimetype": "text/x-python",
   "name": "python",
   "nbconvert_exporter": "python",
   "pygments_lexer": "ipython3",
   "version": "3.7.3"
  }
 },
 "nbformat": 4,
 "nbformat_minor": 2
}
